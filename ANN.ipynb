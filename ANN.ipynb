{
 "cells": [
  {
   "cell_type": "code",
   "execution_count": 1,
   "id": "b431b070-51aa-42b0-b9d6-b0ff95fed47b",
   "metadata": {},
   "outputs": [],
   "source": [
    "import pandas as pd\n",
    "import numpy as np"
   ]
  },
  {
   "cell_type": "code",
   "execution_count": 144,
   "id": "e9a4f4a8-2ed1-4130-bbad-53d4a5355b9b",
   "metadata": {},
   "outputs": [],
   "source": [
    "df=pd.read_csv(\"C:\\\\Users\\\\admin\\\\Downloads\\\\Churn_Modelling.csv\")"
   ]
  },
  {
   "cell_type": "code",
   "execution_count": 145,
   "id": "30b66e6a-e9a6-4564-85f1-77dcebb76974",
   "metadata": {},
   "outputs": [
    {
     "data": {
      "text/html": [
       "<div>\n",
       "<style scoped>\n",
       "    .dataframe tbody tr th:only-of-type {\n",
       "        vertical-align: middle;\n",
       "    }\n",
       "\n",
       "    .dataframe tbody tr th {\n",
       "        vertical-align: top;\n",
       "    }\n",
       "\n",
       "    .dataframe thead th {\n",
       "        text-align: right;\n",
       "    }\n",
       "</style>\n",
       "<table border=\"1\" class=\"dataframe\">\n",
       "  <thead>\n",
       "    <tr style=\"text-align: right;\">\n",
       "      <th></th>\n",
       "      <th>RowNumber</th>\n",
       "      <th>CustomerId</th>\n",
       "      <th>Surname</th>\n",
       "      <th>CreditScore</th>\n",
       "      <th>Geography</th>\n",
       "      <th>Gender</th>\n",
       "      <th>Age</th>\n",
       "      <th>Tenure</th>\n",
       "      <th>Balance</th>\n",
       "      <th>NumOfProducts</th>\n",
       "      <th>HasCrCard</th>\n",
       "      <th>IsActiveMember</th>\n",
       "      <th>EstimatedSalary</th>\n",
       "      <th>Exited</th>\n",
       "    </tr>\n",
       "  </thead>\n",
       "  <tbody>\n",
       "    <tr>\n",
       "      <th>0</th>\n",
       "      <td>1</td>\n",
       "      <td>15634602</td>\n",
       "      <td>Hargrave</td>\n",
       "      <td>619</td>\n",
       "      <td>France</td>\n",
       "      <td>Female</td>\n",
       "      <td>42</td>\n",
       "      <td>2</td>\n",
       "      <td>0.00</td>\n",
       "      <td>1</td>\n",
       "      <td>1</td>\n",
       "      <td>1</td>\n",
       "      <td>101348.88</td>\n",
       "      <td>1</td>\n",
       "    </tr>\n",
       "    <tr>\n",
       "      <th>1</th>\n",
       "      <td>2</td>\n",
       "      <td>15647311</td>\n",
       "      <td>Hill</td>\n",
       "      <td>608</td>\n",
       "      <td>Spain</td>\n",
       "      <td>Female</td>\n",
       "      <td>41</td>\n",
       "      <td>1</td>\n",
       "      <td>83807.86</td>\n",
       "      <td>1</td>\n",
       "      <td>0</td>\n",
       "      <td>1</td>\n",
       "      <td>112542.58</td>\n",
       "      <td>0</td>\n",
       "    </tr>\n",
       "    <tr>\n",
       "      <th>2</th>\n",
       "      <td>3</td>\n",
       "      <td>15619304</td>\n",
       "      <td>Onio</td>\n",
       "      <td>502</td>\n",
       "      <td>France</td>\n",
       "      <td>Female</td>\n",
       "      <td>42</td>\n",
       "      <td>8</td>\n",
       "      <td>159660.80</td>\n",
       "      <td>3</td>\n",
       "      <td>1</td>\n",
       "      <td>0</td>\n",
       "      <td>113931.57</td>\n",
       "      <td>1</td>\n",
       "    </tr>\n",
       "    <tr>\n",
       "      <th>3</th>\n",
       "      <td>4</td>\n",
       "      <td>15701354</td>\n",
       "      <td>Boni</td>\n",
       "      <td>699</td>\n",
       "      <td>France</td>\n",
       "      <td>Female</td>\n",
       "      <td>39</td>\n",
       "      <td>1</td>\n",
       "      <td>0.00</td>\n",
       "      <td>2</td>\n",
       "      <td>0</td>\n",
       "      <td>0</td>\n",
       "      <td>93826.63</td>\n",
       "      <td>0</td>\n",
       "    </tr>\n",
       "    <tr>\n",
       "      <th>4</th>\n",
       "      <td>5</td>\n",
       "      <td>15737888</td>\n",
       "      <td>Mitchell</td>\n",
       "      <td>850</td>\n",
       "      <td>Spain</td>\n",
       "      <td>Female</td>\n",
       "      <td>43</td>\n",
       "      <td>2</td>\n",
       "      <td>125510.82</td>\n",
       "      <td>1</td>\n",
       "      <td>1</td>\n",
       "      <td>1</td>\n",
       "      <td>79084.10</td>\n",
       "      <td>0</td>\n",
       "    </tr>\n",
       "  </tbody>\n",
       "</table>\n",
       "</div>"
      ],
      "text/plain": [
       "   RowNumber  CustomerId   Surname  CreditScore Geography  Gender  Age  \\\n",
       "0          1    15634602  Hargrave          619    France  Female   42   \n",
       "1          2    15647311      Hill          608     Spain  Female   41   \n",
       "2          3    15619304      Onio          502    France  Female   42   \n",
       "3          4    15701354      Boni          699    France  Female   39   \n",
       "4          5    15737888  Mitchell          850     Spain  Female   43   \n",
       "\n",
       "   Tenure    Balance  NumOfProducts  HasCrCard  IsActiveMember  \\\n",
       "0       2       0.00              1          1               1   \n",
       "1       1   83807.86              1          0               1   \n",
       "2       8  159660.80              3          1               0   \n",
       "3       1       0.00              2          0               0   \n",
       "4       2  125510.82              1          1               1   \n",
       "\n",
       "   EstimatedSalary  Exited  \n",
       "0        101348.88       1  \n",
       "1        112542.58       0  \n",
       "2        113931.57       1  \n",
       "3         93826.63       0  \n",
       "4         79084.10       0  "
      ]
     },
     "execution_count": 145,
     "metadata": {},
     "output_type": "execute_result"
    }
   ],
   "source": [
    "df.head()"
   ]
  },
  {
   "cell_type": "code",
   "execution_count": 146,
   "id": "b2517f2a-e592-4e80-9d93-be1a94346e9c",
   "metadata": {},
   "outputs": [],
   "source": [
    "x=df.iloc[:,3:-1]\n",
    "y=df['Exited']"
   ]
  },
  {
   "cell_type": "code",
   "execution_count": 147,
   "id": "22d5c961-fda3-4fbc-b1d4-ed0b1b283705",
   "metadata": {},
   "outputs": [],
   "source": [
    "# Creating Dummy Variable\n",
    "gender=pd.get_dummies(x['Gender'],dtype=int,drop_first=True)\n",
    "geography=pd.get_dummies(x['Geography'],dtype=int,drop_first=True)"
   ]
  },
  {
   "cell_type": "code",
   "execution_count": 148,
   "id": "b2367a36-5131-46bb-b63b-619f1572edf6",
   "metadata": {},
   "outputs": [],
   "source": [
    "x=pd.concat([x,gender,geography],axis=1)"
   ]
  },
  {
   "cell_type": "code",
   "execution_count": 149,
   "id": "1b90ae2a-b792-46c9-8f78-c77eef17069e",
   "metadata": {},
   "outputs": [],
   "source": [
    "x.drop(columns=['Gender','Geography'],inplace=True)"
   ]
  },
  {
   "cell_type": "code",
   "execution_count": 150,
   "id": "a9f8b494-d005-489b-92c6-05a6111de2de",
   "metadata": {},
   "outputs": [
    {
     "data": {
      "text/plain": [
       "Index(['CreditScore', 'Age', 'Tenure', 'Balance', 'NumOfProducts', 'HasCrCard',\n",
       "       'IsActiveMember', 'EstimatedSalary', 'Male', 'Germany', 'Spain'],\n",
       "      dtype='object')"
      ]
     },
     "execution_count": 150,
     "metadata": {},
     "output_type": "execute_result"
    }
   ],
   "source": [
    "x.columns"
   ]
  },
  {
   "cell_type": "code",
   "execution_count": 151,
   "id": "9a8553a0-7146-4c6b-8b2b-24f30a03db1c",
   "metadata": {},
   "outputs": [],
   "source": [
    "from sklearn.model_selection import train_test_split"
   ]
  },
  {
   "cell_type": "code",
   "execution_count": 152,
   "id": "5a63fbe5-8193-44d7-99a7-b1448d77c9b8",
   "metadata": {},
   "outputs": [],
   "source": [
    "x_train,x_test,y_train,y_test=train_test_split(x,y,test_size=0.2,random_state=0)"
   ]
  },
  {
   "cell_type": "code",
   "execution_count": 153,
   "id": "ec404361-e9ea-4749-8d71-0a4f46dc8e99",
   "metadata": {},
   "outputs": [],
   "source": [
    "from sklearn.preprocessing import StandardScaler"
   ]
  },
  {
   "cell_type": "code",
   "execution_count": 154,
   "id": "b31f92d6-33ef-486e-8b3d-a72d3317c7e0",
   "metadata": {},
   "outputs": [],
   "source": [
    "scaler=StandardScaler()"
   ]
  },
  {
   "cell_type": "code",
   "execution_count": 155,
   "id": "45167ce7-2d3f-468c-9d67-14649904e113",
   "metadata": {},
   "outputs": [],
   "source": [
    "x_train_scale=scaler.fit_transform(x_train)"
   ]
  },
  {
   "cell_type": "code",
   "execution_count": 156,
   "id": "71580db3-f3e7-440a-af6d-f36aff58c5a8",
   "metadata": {},
   "outputs": [],
   "source": [
    "x_test_scale=scaler.transform(x_test)"
   ]
  },
  {
   "cell_type": "code",
   "execution_count": 157,
   "id": "6b8f9597-6d0a-4c60-a0c8-2710c851d911",
   "metadata": {},
   "outputs": [],
   "source": [
    "from tensorflow import keras"
   ]
  },
  {
   "cell_type": "code",
   "execution_count": 158,
   "id": "305c9d75-4b7c-4d18-80d5-5b6c754cda68",
   "metadata": {},
   "outputs": [],
   "source": [
    "# Importing Keras Librarires\n",
    "from keras.models import Sequential\n",
    "from keras.layers import Dense\n",
    "from keras.layers import ReLU,LeakyReLU,ELU"
   ]
  },
  {
   "cell_type": "code",
   "execution_count": 159,
   "id": "fa1d2921-2f93-41d1-a4b7-a329fab79827",
   "metadata": {},
   "outputs": [],
   "source": [
    "from keras.layers import Dropout"
   ]
  },
  {
   "cell_type": "code",
   "execution_count": 160,
   "id": "0396cb25-5942-404e-841a-1497d8e60552",
   "metadata": {},
   "outputs": [],
   "source": [
    "# Making ANN\n",
    "classifier=Sequential()"
   ]
  },
  {
   "cell_type": "code",
   "execution_count": 162,
   "id": "da7b6853-9288-4108-83b1-23bd574f044a",
   "metadata": {},
   "outputs": [],
   "source": [
    "classifier.add(Dense(units=6,kernel_initializer='he_uniform',activation='relu',input_dim=11))\n",
    "classifier.add(Dense(units=6,kernel_initializer='he_uniform',activation='relu'))\n",
    "classifier.add(Dense(units=1,kernel_initializer='glorot_uniform',activation='sigmoid'))"
   ]
  },
  {
   "cell_type": "code",
   "execution_count": 167,
   "id": "74630993-646e-4ded-b73c-55a747a1f0b2",
   "metadata": {},
   "outputs": [],
   "source": [
    "classifier.compile(optimizer='adam',loss='binary_crossentropy',metrics=['accuracy'])"
   ]
  },
  {
   "cell_type": "code",
   "execution_count": 168,
   "id": "7663fdd9-647c-42fc-a92e-a05f43e6e410",
   "metadata": {},
   "outputs": [
    {
     "name": "stdout",
     "output_type": "stream",
     "text": [
      "Epoch 1/100\n",
      "536/536 [==============================] - 4s 5ms/step - loss: 0.5444 - accuracy: 0.7938 - val_loss: 0.5054 - val_accuracy: 0.7955\n",
      "Epoch 2/100\n",
      "536/536 [==============================] - 2s 4ms/step - loss: 0.4784 - accuracy: 0.7964 - val_loss: 0.4668 - val_accuracy: 0.7967\n",
      "Epoch 3/100\n",
      "536/536 [==============================] - 2s 4ms/step - loss: 0.4501 - accuracy: 0.7992 - val_loss: 0.4517 - val_accuracy: 0.7967\n",
      "Epoch 4/100\n",
      "536/536 [==============================] - 2s 4ms/step - loss: 0.4379 - accuracy: 0.7975 - val_loss: 0.4455 - val_accuracy: 0.7959\n",
      "Epoch 5/100\n",
      "536/536 [==============================] - 2s 4ms/step - loss: 0.4309 - accuracy: 0.8007 - val_loss: 0.4429 - val_accuracy: 0.7921\n",
      "Epoch 6/100\n",
      "536/536 [==============================] - 2s 4ms/step - loss: 0.4254 - accuracy: 0.8041 - val_loss: 0.4375 - val_accuracy: 0.7933\n",
      "Epoch 7/100\n",
      "536/536 [==============================] - 2s 4ms/step - loss: 0.4184 - accuracy: 0.8054 - val_loss: 0.4327 - val_accuracy: 0.7955\n",
      "Epoch 8/100\n",
      "536/536 [==============================] - 2s 4ms/step - loss: 0.4117 - accuracy: 0.8085 - val_loss: 0.4256 - val_accuracy: 0.8012\n",
      "Epoch 9/100\n",
      "536/536 [==============================] - 2s 4ms/step - loss: 0.4041 - accuracy: 0.8171 - val_loss: 0.4178 - val_accuracy: 0.8076\n",
      "Epoch 10/100\n",
      "536/536 [==============================] - 2s 4ms/step - loss: 0.3971 - accuracy: 0.8164 - val_loss: 0.4117 - val_accuracy: 0.8133\n",
      "Epoch 11/100\n",
      "536/536 [==============================] - 2s 4ms/step - loss: 0.3897 - accuracy: 0.8197 - val_loss: 0.4077 - val_accuracy: 0.8152\n",
      "Epoch 12/100\n",
      "536/536 [==============================] - 2s 4ms/step - loss: 0.3837 - accuracy: 0.8240 - val_loss: 0.4028 - val_accuracy: 0.8224\n",
      "Epoch 13/100\n",
      "536/536 [==============================] - 2s 3ms/step - loss: 0.3791 - accuracy: 0.8237 - val_loss: 0.3986 - val_accuracy: 0.8239\n",
      "Epoch 14/100\n",
      "536/536 [==============================] - 2s 3ms/step - loss: 0.3735 - accuracy: 0.8311 - val_loss: 0.3962 - val_accuracy: 0.8243\n",
      "Epoch 15/100\n",
      "536/536 [==============================] - 2s 3ms/step - loss: 0.3705 - accuracy: 0.8339 - val_loss: 0.3936 - val_accuracy: 0.8224\n",
      "Epoch 16/100\n",
      "536/536 [==============================] - 2s 3ms/step - loss: 0.3674 - accuracy: 0.8354 - val_loss: 0.3908 - val_accuracy: 0.8254\n",
      "Epoch 17/100\n",
      "536/536 [==============================] - 3s 5ms/step - loss: 0.3646 - accuracy: 0.8384 - val_loss: 0.3890 - val_accuracy: 0.8273\n",
      "Epoch 18/100\n",
      "536/536 [==============================] - 3s 5ms/step - loss: 0.3619 - accuracy: 0.8431 - val_loss: 0.3871 - val_accuracy: 0.8266\n",
      "Epoch 19/100\n",
      "536/536 [==============================] - 2s 4ms/step - loss: 0.3595 - accuracy: 0.8416 - val_loss: 0.3879 - val_accuracy: 0.8266\n",
      "Epoch 20/100\n",
      "536/536 [==============================] - 2s 3ms/step - loss: 0.3570 - accuracy: 0.8459 - val_loss: 0.3849 - val_accuracy: 0.8304\n",
      "Epoch 21/100\n",
      "536/536 [==============================] - 2s 3ms/step - loss: 0.3551 - accuracy: 0.8481 - val_loss: 0.3843 - val_accuracy: 0.8323\n",
      "Epoch 22/100\n",
      "536/536 [==============================] - 2s 3ms/step - loss: 0.3525 - accuracy: 0.8490 - val_loss: 0.3825 - val_accuracy: 0.8307\n",
      "Epoch 23/100\n",
      "536/536 [==============================] - 2s 4ms/step - loss: 0.3511 - accuracy: 0.8487 - val_loss: 0.3803 - val_accuracy: 0.8342\n",
      "Epoch 24/100\n",
      "536/536 [==============================] - 2s 5ms/step - loss: 0.3493 - accuracy: 0.8498 - val_loss: 0.3783 - val_accuracy: 0.8360\n",
      "Epoch 25/100\n",
      "536/536 [==============================] - 2s 4ms/step - loss: 0.3477 - accuracy: 0.8509 - val_loss: 0.3772 - val_accuracy: 0.8383\n",
      "Epoch 26/100\n",
      "536/536 [==============================] - 2s 4ms/step - loss: 0.3460 - accuracy: 0.8522 - val_loss: 0.3759 - val_accuracy: 0.8372\n",
      "Epoch 27/100\n",
      "536/536 [==============================] - 2s 4ms/step - loss: 0.3449 - accuracy: 0.8545 - val_loss: 0.3735 - val_accuracy: 0.8410\n",
      "Epoch 28/100\n",
      "536/536 [==============================] - 2s 3ms/step - loss: 0.3438 - accuracy: 0.8530 - val_loss: 0.3724 - val_accuracy: 0.8406\n",
      "Epoch 29/100\n",
      "536/536 [==============================] - 2s 4ms/step - loss: 0.3427 - accuracy: 0.8520 - val_loss: 0.3736 - val_accuracy: 0.8402\n",
      "Epoch 30/100\n",
      "536/536 [==============================] - 2s 4ms/step - loss: 0.3419 - accuracy: 0.8517 - val_loss: 0.3704 - val_accuracy: 0.8440\n",
      "Epoch 31/100\n",
      "536/536 [==============================] - 2s 3ms/step - loss: 0.3408 - accuracy: 0.8530 - val_loss: 0.3697 - val_accuracy: 0.8463\n",
      "Epoch 32/100\n",
      "536/536 [==============================] - 2s 4ms/step - loss: 0.3396 - accuracy: 0.8539 - val_loss: 0.3679 - val_accuracy: 0.8455\n",
      "Epoch 33/100\n",
      "536/536 [==============================] - 2s 4ms/step - loss: 0.3387 - accuracy: 0.8539 - val_loss: 0.3678 - val_accuracy: 0.8466\n",
      "Epoch 34/100\n",
      "536/536 [==============================] - 2s 4ms/step - loss: 0.3378 - accuracy: 0.8567 - val_loss: 0.3674 - val_accuracy: 0.8478\n",
      "Epoch 35/100\n",
      "536/536 [==============================] - 2s 4ms/step - loss: 0.3369 - accuracy: 0.8552 - val_loss: 0.3661 - val_accuracy: 0.8485\n",
      "Epoch 36/100\n",
      "536/536 [==============================] - 2s 4ms/step - loss: 0.3365 - accuracy: 0.8556 - val_loss: 0.3663 - val_accuracy: 0.8493\n",
      "Epoch 37/100\n",
      "536/536 [==============================] - 2s 4ms/step - loss: 0.3357 - accuracy: 0.8567 - val_loss: 0.3648 - val_accuracy: 0.8478\n",
      "Epoch 38/100\n",
      "536/536 [==============================] - 2s 4ms/step - loss: 0.3355 - accuracy: 0.8574 - val_loss: 0.3651 - val_accuracy: 0.8497\n",
      "Epoch 39/100\n",
      "536/536 [==============================] - 2s 4ms/step - loss: 0.3346 - accuracy: 0.8561 - val_loss: 0.3656 - val_accuracy: 0.8474\n",
      "Epoch 40/100\n",
      "536/536 [==============================] - 2s 4ms/step - loss: 0.3338 - accuracy: 0.8580 - val_loss: 0.3646 - val_accuracy: 0.8501\n",
      "Epoch 41/100\n",
      "536/536 [==============================] - 2s 4ms/step - loss: 0.3337 - accuracy: 0.8571 - val_loss: 0.3647 - val_accuracy: 0.8504\n",
      "Epoch 42/100\n",
      "536/536 [==============================] - 2s 4ms/step - loss: 0.3325 - accuracy: 0.8576 - val_loss: 0.3662 - val_accuracy: 0.8504\n",
      "Epoch 43/100\n",
      "536/536 [==============================] - 2s 3ms/step - loss: 0.3326 - accuracy: 0.8578 - val_loss: 0.3648 - val_accuracy: 0.8523\n",
      "Epoch 44/100\n",
      "536/536 [==============================] - 2s 3ms/step - loss: 0.3322 - accuracy: 0.8586 - val_loss: 0.3651 - val_accuracy: 0.8501\n",
      "Epoch 45/100\n",
      "536/536 [==============================] - 2s 4ms/step - loss: 0.3318 - accuracy: 0.8599 - val_loss: 0.3649 - val_accuracy: 0.8504\n",
      "Epoch 46/100\n",
      "536/536 [==============================] - 2s 3ms/step - loss: 0.3314 - accuracy: 0.8597 - val_loss: 0.3645 - val_accuracy: 0.8489\n",
      "Epoch 47/100\n",
      "536/536 [==============================] - 2s 4ms/step - loss: 0.3312 - accuracy: 0.8602 - val_loss: 0.3644 - val_accuracy: 0.8516\n",
      "Epoch 48/100\n",
      "536/536 [==============================] - 2s 4ms/step - loss: 0.3305 - accuracy: 0.8571 - val_loss: 0.3642 - val_accuracy: 0.8493\n",
      "Epoch 49/100\n",
      "536/536 [==============================] - 2s 5ms/step - loss: 0.3305 - accuracy: 0.8606 - val_loss: 0.3649 - val_accuracy: 0.8489\n",
      "Epoch 50/100\n",
      "536/536 [==============================] - 2s 4ms/step - loss: 0.3298 - accuracy: 0.8615 - val_loss: 0.3648 - val_accuracy: 0.8497\n",
      "Epoch 51/100\n",
      "536/536 [==============================] - 3s 5ms/step - loss: 0.3296 - accuracy: 0.8606 - val_loss: 0.3656 - val_accuracy: 0.8470\n",
      "Epoch 52/100\n",
      "536/536 [==============================] - 2s 5ms/step - loss: 0.3300 - accuracy: 0.8606 - val_loss: 0.3647 - val_accuracy: 0.8489\n",
      "Epoch 53/100\n",
      "536/536 [==============================] - 2s 4ms/step - loss: 0.3294 - accuracy: 0.8600 - val_loss: 0.3647 - val_accuracy: 0.8497\n",
      "Epoch 54/100\n",
      "536/536 [==============================] - 2s 4ms/step - loss: 0.3291 - accuracy: 0.8599 - val_loss: 0.3658 - val_accuracy: 0.8478\n",
      "Epoch 55/100\n",
      "536/536 [==============================] - 2s 4ms/step - loss: 0.3287 - accuracy: 0.8606 - val_loss: 0.3650 - val_accuracy: 0.8482\n",
      "Epoch 56/100\n",
      "536/536 [==============================] - 2s 4ms/step - loss: 0.3286 - accuracy: 0.8599 - val_loss: 0.3655 - val_accuracy: 0.8478\n",
      "Epoch 57/100\n",
      "536/536 [==============================] - 2s 4ms/step - loss: 0.3286 - accuracy: 0.8593 - val_loss: 0.3652 - val_accuracy: 0.8482\n",
      "Epoch 58/100\n",
      "536/536 [==============================] - 3s 5ms/step - loss: 0.3279 - accuracy: 0.8627 - val_loss: 0.3657 - val_accuracy: 0.8455\n",
      "Epoch 59/100\n",
      "536/536 [==============================] - 2s 4ms/step - loss: 0.3278 - accuracy: 0.8610 - val_loss: 0.3667 - val_accuracy: 0.8478\n",
      "Epoch 60/100\n",
      "536/536 [==============================] - 2s 3ms/step - loss: 0.3278 - accuracy: 0.8608 - val_loss: 0.3651 - val_accuracy: 0.8470\n",
      "Epoch 61/100\n",
      "536/536 [==============================] - 2s 4ms/step - loss: 0.3278 - accuracy: 0.8615 - val_loss: 0.3647 - val_accuracy: 0.8478\n",
      "Epoch 62/100\n",
      "536/536 [==============================] - 2s 4ms/step - loss: 0.3277 - accuracy: 0.8612 - val_loss: 0.3650 - val_accuracy: 0.8466\n",
      "Epoch 63/100\n",
      "536/536 [==============================] - 2s 4ms/step - loss: 0.3276 - accuracy: 0.8614 - val_loss: 0.3651 - val_accuracy: 0.8482\n",
      "Epoch 64/100\n",
      "536/536 [==============================] - 2s 4ms/step - loss: 0.3275 - accuracy: 0.8619 - val_loss: 0.3654 - val_accuracy: 0.8470\n",
      "Epoch 65/100\n",
      "536/536 [==============================] - 2s 4ms/step - loss: 0.3275 - accuracy: 0.8602 - val_loss: 0.3649 - val_accuracy: 0.8466\n",
      "Epoch 66/100\n",
      "536/536 [==============================] - 2s 4ms/step - loss: 0.3273 - accuracy: 0.8632 - val_loss: 0.3661 - val_accuracy: 0.8444\n",
      "Epoch 67/100\n",
      "536/536 [==============================] - 2s 4ms/step - loss: 0.3269 - accuracy: 0.8621 - val_loss: 0.3656 - val_accuracy: 0.8485\n",
      "Epoch 68/100\n",
      "536/536 [==============================] - 2s 4ms/step - loss: 0.3268 - accuracy: 0.8621 - val_loss: 0.3650 - val_accuracy: 0.8474\n",
      "Epoch 69/100\n",
      "536/536 [==============================] - 2s 4ms/step - loss: 0.3268 - accuracy: 0.8621 - val_loss: 0.3667 - val_accuracy: 0.8493\n",
      "Epoch 70/100\n",
      "536/536 [==============================] - 3s 5ms/step - loss: 0.3271 - accuracy: 0.8630 - val_loss: 0.3669 - val_accuracy: 0.8451\n",
      "Epoch 71/100\n",
      "536/536 [==============================] - 2s 4ms/step - loss: 0.3266 - accuracy: 0.8615 - val_loss: 0.3655 - val_accuracy: 0.8463\n",
      "Epoch 72/100\n",
      "536/536 [==============================] - 2s 3ms/step - loss: 0.3264 - accuracy: 0.8621 - val_loss: 0.3681 - val_accuracy: 0.8482\n",
      "Epoch 73/100\n",
      "536/536 [==============================] - 2s 3ms/step - loss: 0.3266 - accuracy: 0.8602 - val_loss: 0.3667 - val_accuracy: 0.8444\n",
      "Epoch 74/100\n",
      "536/536 [==============================] - 2s 3ms/step - loss: 0.3263 - accuracy: 0.8621 - val_loss: 0.3665 - val_accuracy: 0.8470\n",
      "Epoch 75/100\n",
      "536/536 [==============================] - 2s 4ms/step - loss: 0.3267 - accuracy: 0.8632 - val_loss: 0.3666 - val_accuracy: 0.8455\n",
      "Epoch 76/100\n",
      "536/536 [==============================] - 2s 4ms/step - loss: 0.3266 - accuracy: 0.8614 - val_loss: 0.3667 - val_accuracy: 0.8474\n",
      "Epoch 77/100\n",
      "536/536 [==============================] - 2s 4ms/step - loss: 0.3265 - accuracy: 0.8640 - val_loss: 0.3663 - val_accuracy: 0.8459\n",
      "Epoch 78/100\n",
      "536/536 [==============================] - 2s 4ms/step - loss: 0.3261 - accuracy: 0.8623 - val_loss: 0.3672 - val_accuracy: 0.8463\n",
      "Epoch 79/100\n",
      "536/536 [==============================] - 2s 4ms/step - loss: 0.3258 - accuracy: 0.8647 - val_loss: 0.3662 - val_accuracy: 0.8455\n",
      "Epoch 80/100\n",
      "536/536 [==============================] - 2s 3ms/step - loss: 0.3263 - accuracy: 0.8621 - val_loss: 0.3662 - val_accuracy: 0.8466\n",
      "Epoch 81/100\n",
      "536/536 [==============================] - 2s 4ms/step - loss: 0.3258 - accuracy: 0.8619 - val_loss: 0.3653 - val_accuracy: 0.8482\n",
      "Epoch 82/100\n",
      "536/536 [==============================] - 2s 4ms/step - loss: 0.3258 - accuracy: 0.8634 - val_loss: 0.3675 - val_accuracy: 0.8466\n",
      "Epoch 83/100\n",
      "536/536 [==============================] - 2s 4ms/step - loss: 0.3260 - accuracy: 0.8612 - val_loss: 0.3659 - val_accuracy: 0.8470\n",
      "Epoch 84/100\n",
      "536/536 [==============================] - 2s 4ms/step - loss: 0.3254 - accuracy: 0.8628 - val_loss: 0.3661 - val_accuracy: 0.8470\n",
      "Epoch 85/100\n",
      "536/536 [==============================] - 2s 4ms/step - loss: 0.3261 - accuracy: 0.8630 - val_loss: 0.3656 - val_accuracy: 0.8470\n",
      "Epoch 86/100\n",
      "536/536 [==============================] - 2s 4ms/step - loss: 0.3257 - accuracy: 0.8617 - val_loss: 0.3648 - val_accuracy: 0.8504\n",
      "Epoch 87/100\n",
      "536/536 [==============================] - 2s 4ms/step - loss: 0.3258 - accuracy: 0.8655 - val_loss: 0.3653 - val_accuracy: 0.8470\n",
      "Epoch 88/100\n",
      "536/536 [==============================] - 2s 4ms/step - loss: 0.3255 - accuracy: 0.8636 - val_loss: 0.3657 - val_accuracy: 0.8474\n",
      "Epoch 89/100\n",
      "536/536 [==============================] - 2s 4ms/step - loss: 0.3256 - accuracy: 0.8634 - val_loss: 0.3654 - val_accuracy: 0.8485\n",
      "Epoch 90/100\n",
      "536/536 [==============================] - 2s 4ms/step - loss: 0.3257 - accuracy: 0.8634 - val_loss: 0.3653 - val_accuracy: 0.8497\n",
      "Epoch 91/100\n",
      "536/536 [==============================] - 2s 4ms/step - loss: 0.3252 - accuracy: 0.8632 - val_loss: 0.3654 - val_accuracy: 0.8501\n",
      "Epoch 92/100\n",
      "536/536 [==============================] - 2s 4ms/step - loss: 0.3252 - accuracy: 0.8634 - val_loss: 0.3659 - val_accuracy: 0.8485\n",
      "Epoch 93/100\n",
      "536/536 [==============================] - 3s 5ms/step - loss: 0.3254 - accuracy: 0.8640 - val_loss: 0.3649 - val_accuracy: 0.8497\n",
      "Epoch 94/100\n",
      "536/536 [==============================] - 2s 4ms/step - loss: 0.3251 - accuracy: 0.8649 - val_loss: 0.3669 - val_accuracy: 0.8485\n",
      "Epoch 95/100\n",
      "536/536 [==============================] - 2s 4ms/step - loss: 0.3249 - accuracy: 0.8643 - val_loss: 0.3650 - val_accuracy: 0.8489\n",
      "Epoch 96/100\n",
      "536/536 [==============================] - 2s 4ms/step - loss: 0.3248 - accuracy: 0.8651 - val_loss: 0.3661 - val_accuracy: 0.8466\n",
      "Epoch 97/100\n",
      "536/536 [==============================] - 2s 4ms/step - loss: 0.3245 - accuracy: 0.8647 - val_loss: 0.3662 - val_accuracy: 0.8497\n",
      "Epoch 98/100\n",
      "536/536 [==============================] - 2s 5ms/step - loss: 0.3248 - accuracy: 0.8617 - val_loss: 0.3653 - val_accuracy: 0.8485\n",
      "Epoch 99/100\n",
      "536/536 [==============================] - 3s 5ms/step - loss: 0.3250 - accuracy: 0.8651 - val_loss: 0.3645 - val_accuracy: 0.8493\n",
      "Epoch 100/100\n",
      "536/536 [==============================] - 2s 4ms/step - loss: 0.3250 - accuracy: 0.8642 - val_loss: 0.3650 - val_accuracy: 0.8493\n"
     ]
    }
   ],
   "source": [
    "model_history=classifier.fit(x_train_scale,y_train,validation_split=0.33,batch_size=10,epochs=100)"
   ]
  },
  {
   "cell_type": "code",
   "execution_count": 180,
   "id": "80c11215-dbad-4fe4-82bb-464ad4db6a35",
   "metadata": {},
   "outputs": [
    {
     "name": "stdout",
     "output_type": "stream",
     "text": [
      "63/63 [==============================] - 0s 3ms/step\n"
     ]
    }
   ],
   "source": [
    "y_pred=classifier.predict(x_test_scale)"
   ]
  },
  {
   "cell_type": "code",
   "execution_count": 181,
   "id": "d6306c68-92e6-4e18-8bba-d5ae7c388f1c",
   "metadata": {},
   "outputs": [
    {
     "data": {
      "text/plain": [
       "array([[0.2406162 ],\n",
       "       [0.3531309 ],\n",
       "       [0.14539321],\n",
       "       ...,\n",
       "       [0.1352798 ],\n",
       "       [0.10189037],\n",
       "       [0.17699848]], dtype=float32)"
      ]
     },
     "execution_count": 181,
     "metadata": {},
     "output_type": "execute_result"
    }
   ],
   "source": [
    "y_pred"
   ]
  },
  {
   "cell_type": "code",
   "execution_count": 182,
   "id": "8e8c67ab-652c-4c05-aa49-f80ebe7702d8",
   "metadata": {},
   "outputs": [],
   "source": [
    "from sklearn.metrics import confusion_matrix"
   ]
  },
  {
   "cell_type": "code",
   "execution_count": 184,
   "id": "78446fa6-4125-4d63-ba86-afbbbc841066",
   "metadata": {},
   "outputs": [],
   "source": [
    "y_pred=y_pred>0.5"
   ]
  },
  {
   "cell_type": "code",
   "execution_count": 185,
   "id": "2816d113-de8a-4412-bd5d-9784b84663be",
   "metadata": {},
   "outputs": [
    {
     "data": {
      "text/plain": [
       "array([[1517,   78],\n",
       "       [ 208,  197]], dtype=int64)"
      ]
     },
     "execution_count": 185,
     "metadata": {},
     "output_type": "execute_result"
    }
   ],
   "source": [
    "confusion_matrix(y_test,y_pred)"
   ]
  },
  {
   "cell_type": "code",
   "execution_count": 186,
   "id": "dd112bf8-39aa-4930-8857-9c9d86de0e1b",
   "metadata": {},
   "outputs": [],
   "source": [
    "from sklearn.metrics import accuracy_score"
   ]
  },
  {
   "cell_type": "code",
   "execution_count": 187,
   "id": "bc3661de-d8e8-4175-8c65-b177f0882fce",
   "metadata": {},
   "outputs": [
    {
     "data": {
      "text/plain": [
       "0.857"
      ]
     },
     "execution_count": 187,
     "metadata": {},
     "output_type": "execute_result"
    }
   ],
   "source": [
    "accuracy_score(y_test,y_pred)"
   ]
  },
  {
   "cell_type": "code",
   "execution_count": null,
   "id": "852f16fe-4774-46ba-9fb5-48121ba93f23",
   "metadata": {},
   "outputs": [],
   "source": []
  }
 ],
 "metadata": {
  "kernelspec": {
   "display_name": "Python 3 (ipykernel)",
   "language": "python",
   "name": "python3"
  },
  "language_info": {
   "codemirror_mode": {
    "name": "ipython",
    "version": 3
   },
   "file_extension": ".py",
   "mimetype": "text/x-python",
   "name": "python",
   "nbconvert_exporter": "python",
   "pygments_lexer": "ipython3",
   "version": "3.10.13"
  }
 },
 "nbformat": 4,
 "nbformat_minor": 5
}
