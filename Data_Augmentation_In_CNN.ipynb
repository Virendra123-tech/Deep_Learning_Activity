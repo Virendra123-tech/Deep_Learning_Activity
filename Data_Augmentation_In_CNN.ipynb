{
 "cells": [
  {
   "cell_type": "code",
   "execution_count": 1,
   "id": "7c67a45c-3887-406c-802c-96d11f748d06",
   "metadata": {},
   "outputs": [],
   "source": [
    "from tensorflow import keras"
   ]
  },
  {
   "cell_type": "code",
   "execution_count": 3,
   "id": "8f8f3eda-00ed-479e-a4de-ce7072df802a",
   "metadata": {},
   "outputs": [],
   "source": [
    "from keras.preprocessing.image import ImageDataGenerator"
   ]
  },
  {
   "cell_type": "code",
   "execution_count": 17,
   "id": "842961a5-7521-463f-9c00-cf35f1fc9dee",
   "metadata": {},
   "outputs": [],
   "source": [
    "from keras.utils import array_to_img,load_img,img_to_array"
   ]
  },
  {
   "cell_type": "code",
   "execution_count": 10,
   "id": "f14bd883-cdfa-4f92-8179-56f03884bc0e",
   "metadata": {},
   "outputs": [],
   "source": [
    "from keras.models import Sequential\n",
    "from keras.layers import ReLU,ELU"
   ]
  },
  {
   "cell_type": "code",
   "execution_count": 12,
   "id": "03c97205-1321-4620-9aec-7a1162a70574",
   "metadata": {},
   "outputs": [],
   "source": [
    "data_gen=ImageDataGenerator(rotation_range=48,width_shift_range=0.2,\n",
    "                                     height_shift_range=0.2,shear_range=0.2,\n",
    "                                     zoom_range=0.2,horizontal_flip=True,\n",
    "                                     fill_mode='nearest')"
   ]
  },
  {
   "cell_type": "code",
   "execution_count": 15,
   "id": "a00c6c34-bab7-42c6-8355-c6c5212957bc",
   "metadata": {},
   "outputs": [],
   "source": [
    "img=load_img(\"C:\\\\Users\\\\admin\\\\Desktop\\\\train\\\\Screenshot (246).png\")"
   ]
  },
  {
   "cell_type": "code",
   "execution_count": 18,
   "id": "f8c8c6dd-34c2-4bb7-a40e-ebc141e392ed",
   "metadata": {},
   "outputs": [],
   "source": [
    "x=img_to_array(img)"
   ]
  },
  {
   "cell_type": "code",
   "execution_count": 19,
   "id": "cda0cb28-f16b-4221-bdfc-f910ec872908",
   "metadata": {},
   "outputs": [],
   "source": [
    "x=x.reshape((1,)+x.shape)"
   ]
  },
  {
   "cell_type": "code",
   "execution_count": 28,
   "id": "715a4eea-fbb0-45de-b2fe-f8b40aacb7b7",
   "metadata": {},
   "outputs": [],
   "source": [
    "i=0\n",
    "# The .flow command below generates batches of randomly transformed images\n",
    "# Save the result in directory\n",
    "for batch in data_gen.flow(x,batch_size=1,save_to_dir=\"preview\",save_prefix=\"cat\",save_format=\"jpeg\"):\n",
    "    i+=1\n",
    "    if i>=20:\n",
    "        break "
   ]
  },
  {
   "cell_type": "code",
   "execution_count": null,
   "id": "c9dd4467-20e2-4709-9d43-b6a3fbcf8275",
   "metadata": {},
   "outputs": [],
   "source": []
  }
 ],
 "metadata": {
  "kernelspec": {
   "display_name": "Python 3 (ipykernel)",
   "language": "python",
   "name": "python3"
  },
  "language_info": {
   "codemirror_mode": {
    "name": "ipython",
    "version": 3
   },
   "file_extension": ".py",
   "mimetype": "text/x-python",
   "name": "python",
   "nbconvert_exporter": "python",
   "pygments_lexer": "ipython3",
   "version": "3.10.13"
  }
 },
 "nbformat": 4,
 "nbformat_minor": 5
}
